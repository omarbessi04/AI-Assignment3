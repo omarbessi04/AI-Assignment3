{
 "cells": [
  {
   "cell_type": "markdown",
   "metadata": {},
   "source": [
    "# Analytical Regression\n",
    "Computing a regression using preudo-inverse matrices\n",
    "\n",
    "Author: Pierre Nugues"
   ]
  },
  {
   "cell_type": "markdown",
   "metadata": {},
   "source": [
    "## The modules"
   ]
  },
  {
   "cell_type": "code",
   "execution_count": 1,
   "metadata": {},
   "outputs": [],
   "source": [
    "%matplotlib inline\n",
    "import matplotlib.pyplot as plt\n",
    "import numpy as np"
   ]
  },
  {
   "cell_type": "markdown",
   "metadata": {},
   "source": [
    "## The Functions"
   ]
  },
  {
   "cell_type": "markdown",
   "metadata": {},
   "source": [
    "### Pseudo-inverse with a numpy `array`"
   ]
  },
  {
   "cell_type": "code",
   "execution_count": 2,
   "metadata": {},
   "outputs": [],
   "source": [
    "def regression_array(X, y, reg=0.0):\n",
    "    \"\"\"\n",
    "    Computes the regression using numpy arrays\n",
    "    :param observations:\n",
    "    :return: weights, ŷ, sse\n",
    "    \"\"\"\n",
    "    if reg != 0.0:\n",
    "        print('Regularized')\n",
    "    I = np.identity(X.shape[1])\n",
    "    w = (np.linalg.inv(X.T @ X + reg * I) @ X.T) @ y\n",
    "    # Or directly with pinv()\n",
    "    # w = np.linalg.pinv(X) @ y\n",
    "    y_hat = X @ w\n",
    "    se = (y_hat - y) * (y_hat - y)\n",
    "    sse = (y_hat - y).T @ (y_hat - y)\n",
    "    return w, y_hat, se, sse"
   ]
  },
  {
   "cell_type": "markdown",
   "metadata": {},
   "source": [
    "## The Dataset"
   ]
  },
  {
   "cell_type": "markdown",
   "metadata": {},
   "source": [
    "The number of characters and number of _a_ in the French and English chapters"
   ]
  },
  {
   "cell_type": "code",
   "execution_count": 3,
   "metadata": {},
   "outputs": [],
   "source": [
    "stat_fr = np.array([[36961, 2503],\n",
    "                    [43621, 2992],\n",
    "                    [15694, 1042],\n",
    "                    [36231, 2487],\n",
    "                    [29945, 2014],\n",
    "                    [40588, 2805],\n",
    "                    [75255, 5062],\n",
    "                    [37709, 2643],\n",
    "                    [30899, 2126],\n",
    "                    [25486, 1784],\n",
    "                    [37497, 2641],\n",
    "                    [40398, 2766],\n",
    "                    [74105, 5047],\n",
    "                    [76725, 5312],\n",
    "                    [18317, 1215]])\n",
    "\n",
    "stat_en = np.array([[35680, 2217],\n",
    "                    [42514, 2761],\n",
    "                    [15162, 990],\n",
    "                    [35298, 2274],\n",
    "                    [29800, 1865],\n",
    "                    [40255, 2606],\n",
    "                    [74532, 4805],\n",
    "                    [37464, 2396],\n",
    "                    [31030, 1993],\n",
    "                    [24843, 1627],\n",
    "                    [36172, 2375],\n",
    "                    [39552, 2560],\n",
    "                    [72545, 4597],\n",
    "                    [75352, 4871],\n",
    "                    [18031, 1119]])"
   ]
  },
  {
   "cell_type": "code",
   "execution_count": 4,
   "metadata": {},
   "outputs": [
    {
     "data": {
      "text/plain": [
       "(15, 2)"
      ]
     },
     "execution_count": 4,
     "metadata": {},
     "output_type": "execute_result"
    }
   ],
   "source": [
    "stat_fr.shape"
   ]
  },
  {
   "cell_type": "code",
   "execution_count": 5,
   "metadata": {},
   "outputs": [
    {
     "data": {
      "text/plain": [
       "array([[1.],\n",
       "       [1.],\n",
       "       [1.],\n",
       "       [1.],\n",
       "       [1.],\n",
       "       [1.],\n",
       "       [1.],\n",
       "       [1.],\n",
       "       [1.],\n",
       "       [1.],\n",
       "       [1.],\n",
       "       [1.],\n",
       "       [1.],\n",
       "       [1.],\n",
       "       [1.]])"
      ]
     },
     "execution_count": 5,
     "metadata": {},
     "output_type": "execute_result"
    }
   ],
   "source": [
    "np.ones((stat_fr.shape[0], 1))"
   ]
  },
  {
   "cell_type": "code",
   "execution_count": 6,
   "metadata": {},
   "outputs": [
    {
     "data": {
      "text/plain": [
       "array([[1.0000e+00, 3.6961e+04, 2.5030e+03],\n",
       "       [1.0000e+00, 4.3621e+04, 2.9920e+03],\n",
       "       [1.0000e+00, 1.5694e+04, 1.0420e+03],\n",
       "       [1.0000e+00, 3.6231e+04, 2.4870e+03],\n",
       "       [1.0000e+00, 2.9945e+04, 2.0140e+03],\n",
       "       [1.0000e+00, 4.0588e+04, 2.8050e+03],\n",
       "       [1.0000e+00, 7.5255e+04, 5.0620e+03],\n",
       "       [1.0000e+00, 3.7709e+04, 2.6430e+03],\n",
       "       [1.0000e+00, 3.0899e+04, 2.1260e+03],\n",
       "       [1.0000e+00, 2.5486e+04, 1.7840e+03],\n",
       "       [1.0000e+00, 3.7497e+04, 2.6410e+03],\n",
       "       [1.0000e+00, 4.0398e+04, 2.7660e+03],\n",
       "       [1.0000e+00, 7.4105e+04, 5.0470e+03],\n",
       "       [1.0000e+00, 7.6725e+04, 5.3120e+03],\n",
       "       [1.0000e+00, 1.8317e+04, 1.2150e+03]])"
      ]
     },
     "execution_count": 6,
     "metadata": {},
     "output_type": "execute_result"
    }
   ],
   "source": [
    "stat_fr = np.hstack((np.ones((stat_fr.shape[0], 1)), stat_fr))\n",
    "stat_fr"
   ]
  },
  {
   "cell_type": "code",
   "execution_count": 7,
   "metadata": {},
   "outputs": [
    {
     "data": {
      "text/plain": [
       "array([[1.0000e+00, 3.5680e+04, 2.2170e+03],\n",
       "       [1.0000e+00, 4.2514e+04, 2.7610e+03],\n",
       "       [1.0000e+00, 1.5162e+04, 9.9000e+02],\n",
       "       [1.0000e+00, 3.5298e+04, 2.2740e+03],\n",
       "       [1.0000e+00, 2.9800e+04, 1.8650e+03],\n",
       "       [1.0000e+00, 4.0255e+04, 2.6060e+03],\n",
       "       [1.0000e+00, 7.4532e+04, 4.8050e+03],\n",
       "       [1.0000e+00, 3.7464e+04, 2.3960e+03],\n",
       "       [1.0000e+00, 3.1030e+04, 1.9930e+03],\n",
       "       [1.0000e+00, 2.4843e+04, 1.6270e+03],\n",
       "       [1.0000e+00, 3.6172e+04, 2.3750e+03],\n",
       "       [1.0000e+00, 3.9552e+04, 2.5600e+03],\n",
       "       [1.0000e+00, 7.2545e+04, 4.5970e+03],\n",
       "       [1.0000e+00, 7.5352e+04, 4.8710e+03],\n",
       "       [1.0000e+00, 1.8031e+04, 1.1190e+03]])"
      ]
     },
     "execution_count": 7,
     "metadata": {},
     "output_type": "execute_result"
    }
   ],
   "source": [
    "stat_en = np.hstack((np.ones((stat_en.shape[0], 1)), stat_en))\n",
    "stat_en"
   ]
  },
  {
   "cell_type": "markdown",
   "metadata": {},
   "source": [
    "## Computing the Regression Using `array`"
   ]
  },
  {
   "cell_type": "code",
   "execution_count": 8,
   "metadata": {},
   "outputs": [],
   "source": [
    "pattern = [('red', 's'), ('green', '^')]\n",
    "lang = [None] * 2"
   ]
  },
  {
   "cell_type": "code",
   "execution_count": 9,
   "metadata": {},
   "outputs": [
    {
     "name": "stdout",
     "output_type": "stream",
     "text": [
      "Language: 0\n",
      "X: [[1.0000e+00 3.5680e+04]\n",
      " [1.0000e+00 4.2514e+04]\n",
      " [1.0000e+00 1.5162e+04]\n",
      " [1.0000e+00 3.5298e+04]\n",
      " [1.0000e+00 2.9800e+04]\n",
      " [1.0000e+00 4.0255e+04]\n",
      " [1.0000e+00 7.4532e+04]\n",
      " [1.0000e+00 3.7464e+04]\n",
      " [1.0000e+00 3.1030e+04]\n",
      " [1.0000e+00 2.4843e+04]\n",
      " [1.0000e+00 3.6172e+04]\n",
      " [1.0000e+00 3.9552e+04]\n",
      " [1.0000e+00 7.2545e+04]\n",
      " [1.0000e+00 7.5352e+04]\n",
      " [1.0000e+00 1.8031e+04]]\n",
      "y: [[2217.]\n",
      " [2761.]\n",
      " [ 990.]\n",
      " [2274.]\n",
      " [1865.]\n",
      " [2606.]\n",
      " [4805.]\n",
      " [2396.]\n",
      " [1993.]\n",
      " [1627.]\n",
      " [2375.]\n",
      " [2560.]\n",
      " [4597.]\n",
      " [4871.]\n",
      " [1119.]]\n",
      "ŷ: [[2290.67191078]\n",
      " [2730.10675161]\n",
      " [ 971.33856803]\n",
      " [2266.10882778]\n",
      " [1912.58047617]\n",
      " [2584.85019536]\n",
      " [4788.90463484]\n",
      " [2405.38536645]\n",
      " [1991.67103136]\n",
      " [1593.83910859]\n",
      " [2322.30813286]\n",
      " [2539.64640649]\n",
      " [4661.13802249]\n",
      " [4841.63167164]\n",
      " [1155.81889557]]\n",
      "Squared errors: [[5.42755044e+03]\n",
      " [9.54392796e+02]\n",
      " [3.48249043e+02]\n",
      " [6.22705990e+01]\n",
      " [2.26390171e+03]\n",
      " [4.47314236e+02]\n",
      " [2.59060780e+02]\n",
      " [8.80851033e+01]\n",
      " [1.76615763e+00]\n",
      " [1.09964472e+03]\n",
      " [2.77643286e+03]\n",
      " [4.14268769e+02]\n",
      " [4.11368593e+03]\n",
      " [8.62498711e+02]\n",
      " [1.35563107e+03]]\n",
      "Weights [[-3.59720264  0.06430126]]\n",
      "SSE [[20474.75292687]]\n",
      "Language: 1\n",
      "X: [[1.0000e+00 3.6961e+04]\n",
      " [1.0000e+00 4.3621e+04]\n",
      " [1.0000e+00 1.5694e+04]\n",
      " [1.0000e+00 3.6231e+04]\n",
      " [1.0000e+00 2.9945e+04]\n",
      " [1.0000e+00 4.0588e+04]\n",
      " [1.0000e+00 7.5255e+04]\n",
      " [1.0000e+00 3.7709e+04]\n",
      " [1.0000e+00 3.0899e+04]\n",
      " [1.0000e+00 2.5486e+04]\n",
      " [1.0000e+00 3.7497e+04]\n",
      " [1.0000e+00 4.0398e+04]\n",
      " [1.0000e+00 7.4105e+04]\n",
      " [1.0000e+00 7.6725e+04]\n",
      " [1.0000e+00 1.8317e+04]]\n",
      "y: [[2503.]\n",
      " [2992.]\n",
      " [1042.]\n",
      " [2487.]\n",
      " [2014.]\n",
      " [2805.]\n",
      " [5062.]\n",
      " [2643.]\n",
      " [2126.]\n",
      " [1784.]\n",
      " [2641.]\n",
      " [2766.]\n",
      " [5047.]\n",
      " [5312.]\n",
      " [1215.]]\n",
      "ŷ: [[2533.22026927]\n",
      " [2988.1088367 ]\n",
      " [1080.65042489]\n",
      " [2483.36011098]\n",
      " [2054.01633697]\n",
      " [2780.95012423]\n",
      " [5148.76123041]\n",
      " [2584.30985612]\n",
      " [2119.17605068]\n",
      " [1749.45956187]\n",
      " [2569.82991974]\n",
      " [2767.97282276]\n",
      " [5070.21440571]\n",
      " [5249.16456286]\n",
      " [1259.80548681]]\n",
      "Squared errors: [[9.13264675e+02]\n",
      " [1.51411518e+01]\n",
      " [1.49385534e+03]\n",
      " [1.32487921e+01]\n",
      " [1.60130722e+03]\n",
      " [5.78396524e+02]\n",
      " [7.52751110e+03]\n",
      " [3.44453299e+03]\n",
      " [4.65662843e+01]\n",
      " [1.19304187e+03]\n",
      " [5.06518032e+03]\n",
      " [3.89202965e+00]\n",
      " [5.38908632e+02]\n",
      " [3.94829216e+03]\n",
      " [2.00753165e+03]]\n",
      "Weights [[8.7253232  0.06830159]]\n",
      "SSE [[28390.67074761]]\n"
     ]
    },
    {
     "data": {
      "image/png": "[encoded data removed]",
      "text/plain": [
       "<Figure size 640x480 with 1 Axes>"
      ]
     },
     "metadata": {},
     "output_type": "display_data"
    }
   ],
   "source": [
    "for i, stats in enumerate([stat_en, stat_fr]):\n",
    "    x_l = stats[:, 1]\n",
    "    y_l = stats[:, -1]\n",
    "    lang[i] = plt.scatter(x_l, y_l, color=pattern[i][0], marker=pattern[i][1])\n",
    "    X = stats[:, :-1]\n",
    "    y = stats[:, -1:]\n",
    "    w, y_hat, se, sse = regression_array(X, y)\n",
    "    print('Language:', i)\n",
    "    print('X:', X)\n",
    "    print('y:', y)\n",
    "    print('ŷ:', y_hat)\n",
    "    print('Squared errors:', se)\n",
    "    print(\"Weights\", w.T)\n",
    "    print(\"SSE\", sse)\n",
    "    plt.plot([min(x_l), max(x_l)],\n",
    "             [([1, min(x_l)] @ w), ([1, max(x_l)] @ w)],\n",
    "             color=pattern[i][0])\n",
    "plt.title(\"Salammbô\")\n",
    "plt.xlabel(\"Letter count\")\n",
    "plt.ylabel(\"A count\")\n",
    "plt.legend((lang[0], lang[1]), ('English', 'French'),\n",
    "           loc='lower right', scatterpoints=1)\n",
    "plt.show()"
   ]
  },
  {
   "cell_type": "markdown",
   "metadata": {},
   "source": [
    "## Singular Matrix"
   ]
  },
  {
   "cell_type": "markdown",
   "metadata": {},
   "source": [
    "We now introduce a singular matrix, something all too frequent in regression experiments. We just duplicate one column."
   ]
  },
  {
   "cell_type": "code",
   "execution_count": 10,
   "metadata": {},
   "outputs": [
    {
     "data": {
      "text/plain": [
       "array([[1.0000e+00, 3.6961e+04, 2.5030e+03],\n",
       "       [1.0000e+00, 4.3621e+04, 2.9920e+03],\n",
       "       [1.0000e+00, 1.5694e+04, 1.0420e+03],\n",
       "       [1.0000e+00, 3.6231e+04, 2.4870e+03],\n",
       "       [1.0000e+00, 2.9945e+04, 2.0140e+03],\n",
       "       [1.0000e+00, 4.0588e+04, 2.8050e+03],\n",
       "       [1.0000e+00, 7.5255e+04, 5.0620e+03],\n",
       "       [1.0000e+00, 3.7709e+04, 2.6430e+03],\n",
       "       [1.0000e+00, 3.0899e+04, 2.1260e+03],\n",
       "       [1.0000e+00, 2.5486e+04, 1.7840e+03],\n",
       "       [1.0000e+00, 3.7497e+04, 2.6410e+03],\n",
       "       [1.0000e+00, 4.0398e+04, 2.7660e+03],\n",
       "       [1.0000e+00, 7.4105e+04, 5.0470e+03],\n",
       "       [1.0000e+00, 7.6725e+04, 5.3120e+03],\n",
       "       [1.0000e+00, 1.8317e+04, 1.2150e+03]])"
      ]
     },
     "execution_count": 10,
     "metadata": {},
     "output_type": "execute_result"
    }
   ],
   "source": [
    "stat_fr"
   ]
  },
  {
   "cell_type": "code",
   "execution_count": 12,
   "metadata": {},
   "outputs": [
    {
     "data": {
      "text/plain": [
       "array([[1.0000e+00, 3.6961e+04, 3.6961e+04, 2.5030e+03],\n",
       "       [1.0000e+00, 4.3621e+04, 4.3621e+04, 2.9920e+03],\n",
       "       [1.0000e+00, 1.5694e+04, 1.5694e+04, 1.0420e+03],\n",
       "       [1.0000e+00, 3.6231e+04, 3.6231e+04, 2.4870e+03],\n",
       "       [1.0000e+00, 2.9945e+04, 2.9945e+04, 2.0140e+03],\n",
       "       [1.0000e+00, 4.0588e+04, 4.0588e+04, 2.8050e+03],\n",
       "       [1.0000e+00, 7.5255e+04, 7.5255e+04, 5.0620e+03],\n",
       "       [1.0000e+00, 3.7709e+04, 3.7709e+04, 2.6430e+03],\n",
       "       [1.0000e+00, 3.0899e+04, 3.0899e+04, 2.1260e+03],\n",
       "       [1.0000e+00, 2.5486e+04, 2.5486e+04, 1.7840e+03],\n",
       "       [1.0000e+00, 3.7497e+04, 3.7497e+04, 2.6410e+03],\n",
       "       [1.0000e+00, 4.0398e+04, 4.0398e+04, 2.7660e+03],\n",
       "       [1.0000e+00, 7.4105e+04, 7.4105e+04, 5.0470e+03],\n",
       "       [1.0000e+00, 7.6725e+04, 7.6725e+04, 5.3120e+03],\n",
       "       [1.0000e+00, 1.8317e+04, 1.8317e+04, 1.2150e+03]])"
      ]
     },
     "execution_count": 12,
     "metadata": {},
     "output_type": "execute_result"
    }
   ],
   "source": [
    "stat_fr_sing = np.hstack((stat_fr[:, :-1], stat_fr[:, -2:-1], stat_fr[:, -1:]))\n",
    "stat_fr_sing"
   ]
  },
  {
   "cell_type": "code",
   "execution_count": 13,
   "metadata": {},
   "outputs": [
    {
     "name": "stdout",
     "output_type": "stream",
     "text": [
      "Trying regularization with a singular matrix\n",
      "X: [[1.0000e+00 3.6961e+04 3.6961e+04]\n",
      " [1.0000e+00 4.3621e+04 4.3621e+04]\n",
      " [1.0000e+00 1.5694e+04 1.5694e+04]\n",
      " [1.0000e+00 3.6231e+04 3.6231e+04]\n",
      " [1.0000e+00 2.9945e+04 2.9945e+04]\n",
      " [1.0000e+00 4.0588e+04 4.0588e+04]\n",
      " [1.0000e+00 7.5255e+04 7.5255e+04]\n",
      " [1.0000e+00 3.7709e+04 3.7709e+04]\n",
      " [1.0000e+00 3.0899e+04 3.0899e+04]\n",
      " [1.0000e+00 2.5486e+04 2.5486e+04]\n",
      " [1.0000e+00 3.7497e+04 3.7497e+04]\n",
      " [1.0000e+00 4.0398e+04 4.0398e+04]\n",
      " [1.0000e+00 7.4105e+04 7.4105e+04]\n",
      " [1.0000e+00 7.6725e+04 7.6725e+04]\n",
      " [1.0000e+00 1.8317e+04 1.8317e+04]]\n",
      "y: [2503. 2992. 1042. 2487. 2014. 2805. 5062. 2643. 2126. 1784. 2641. 2766.\n",
      " 5047. 5312. 1215.]\n",
      "<class 'numpy.linalg.LinAlgError'>\n",
      "Singular matrix: Could not be inverted.\n"
     ]
    }
   ],
   "source": [
    "print('Trying regularization with a singular matrix')\n",
    "# Creation of a singular matrix by duplicating a column\n",
    "X = np.array(stat_fr_sing)[:, :-1]\n",
    "y = np.array(stat_fr_sing)[:, -1]\n",
    "print('X:', X)\n",
    "print('y:', y)\n",
    "try:\n",
    "    regression_array(X, y)\n",
    "except:\n",
    "    print(np.linalg.linalg.LinAlgError)\n",
    "    print(\"Singular matrix: Could not be inverted.\")"
   ]
  },
  {
   "cell_type": "markdown",
   "metadata": {},
   "source": [
    "### Singular Matrix with Regularization"
   ]
  },
  {
   "cell_type": "markdown",
   "metadata": {},
   "source": [
    "Returns $\\mathbf{w}$, $\\mathbf{\\hat{y}}$, squared errors, and the sum of squared errors"
   ]
  },
  {
   "cell_type": "code",
   "execution_count": 14,
   "metadata": {},
   "outputs": [
    {
     "name": "stdout",
     "output_type": "stream",
     "text": [
      "Regularized\n"
     ]
    },
    {
     "data": {
      "text/plain": [
       "(array([7.72552363, 0.0341861 , 0.03414193]),\n",
       " array([2533.19765648, 2988.26230313, 1080.06554833, 2483.31819822,\n",
       "        2053.80823293, 2781.02340324, 5149.7510467 , 2584.3070192 ,\n",
       "        2118.9931688 , 1749.13356935, 2569.8214779 , 2768.04107849,\n",
       "        5071.17381792, 5250.19324348, 1259.28995796]),\n",
       " array([9.11898457e+02, 1.39703779e+01, 1.44898597e+03, 1.35556644e+01,\n",
       "        1.58469541e+03, 5.74877192e+02, 7.70024620e+03, 3.44486600e+03,\n",
       "        4.90956835e+01, 1.21566799e+03, 5.06638201e+03, 4.16600139e+00,\n",
       "        5.84373473e+02, 3.82007515e+03, 1.96160038e+03]),\n",
       " 28394.45594220072)"
      ]
     },
     "execution_count": 14,
     "metadata": {},
     "output_type": "execute_result"
    }
   ],
   "source": [
    "w, y_hat, se, sse = regression_array(X, y, reg=0.01)\n",
    "w, y_hat, se, sse"
   ]
  },
  {
   "cell_type": "markdown",
   "metadata": {},
   "source": [
    "### Pseudo-inverse with a Quasisingular Matrix"
   ]
  },
  {
   "cell_type": "markdown",
   "metadata": {},
   "source": [
    "We now try regularization with a quasi singular matrix"
   ]
  },
  {
   "cell_type": "code",
   "execution_count": 15,
   "metadata": {},
   "outputs": [
    {
     "name": "stdout",
     "output_type": "stream",
     "text": [
      "Trying regularization with a quasi singular matrix\n"
     ]
    },
    {
     "data": {
      "text/plain": [
       "(array([[1.0000e+00, 3.6961e+04, 3.6961e+04],\n",
       "        [1.0000e+00, 4.3621e+04, 4.3621e+04],\n",
       "        [1.0000e+00, 1.5694e+04, 1.5694e+04],\n",
       "        [1.0000e+00, 3.6231e+04, 3.6231e+04],\n",
       "        [1.0000e+00, 2.9945e+04, 2.9945e+04],\n",
       "        [1.0000e+00, 4.0588e+04, 4.0588e+04],\n",
       "        [1.0000e+00, 7.5255e+04, 7.5255e+04],\n",
       "        [1.0000e+00, 3.7709e+04, 3.7709e+04],\n",
       "        [1.0000e+00, 3.0899e+04, 3.0899e+04],\n",
       "        [1.0000e+00, 2.5486e+04, 2.5486e+04],\n",
       "        [1.0000e+00, 3.7497e+04, 3.7497e+04],\n",
       "        [1.0000e+00, 4.0398e+04, 4.0398e+04],\n",
       "        [1.0000e+00, 7.4105e+04, 7.4105e+04],\n",
       "        [1.0000e+00, 7.6725e+04, 7.6725e+04],\n",
       "        [1.0000e+00, 1.8317e+04, 1.8317e+04]]),\n",
       " array([2503., 2992., 1042., 2487., 2014., 2805., 5062., 2643., 2126.,\n",
       "        1784., 2641., 2766., 5047., 5312., 1215.]))"
      ]
     },
     "execution_count": 15,
     "metadata": {},
     "output_type": "execute_result"
    }
   ],
   "source": [
    "print('Trying regularization with a quasi singular matrix')\n",
    "np.set_printoptions(precision=10)\n",
    "X = np.array(stat_fr_sing)[:, :-1]\n",
    "y = np.array(stat_fr_sing)[:, -1]\n",
    "X, y"
   ]
  },
  {
   "cell_type": "code",
   "execution_count": 16,
   "metadata": {},
   "outputs": [
    {
     "data": {
      "text/plain": [
       "(array([[1.0000000000e+00, 3.6961000000e+04, 3.6960999999e+04],\n",
       "        [1.0000000000e+00, 4.3621000000e+04, 4.3621000000e+04],\n",
       "        [1.0000000000e+00, 1.5694000000e+04, 1.5694000000e+04],\n",
       "        [1.0000000000e+00, 3.6231000000e+04, 3.6231000000e+04],\n",
       "        [1.0000000000e+00, 2.9945000000e+04, 2.9945000000e+04],\n",
       "        [1.0000000000e+00, 4.0588000000e+04, 4.0588000000e+04],\n",
       "        [1.0000000000e+00, 7.5255000000e+04, 7.5255000000e+04],\n",
       "        [1.0000000000e+00, 3.7709000000e+04, 3.7709000000e+04],\n",
       "        [1.0000000000e+00, 3.0899000000e+04, 3.0899000000e+04],\n",
       "        [1.0000000000e+00, 2.5486000000e+04, 2.5486000000e+04],\n",
       "        [1.0000000000e+00, 3.7497000000e+04, 3.7497000000e+04],\n",
       "        [1.0000000000e+00, 4.0398000000e+04, 4.0398000000e+04],\n",
       "        [1.0000000000e+00, 7.4105000000e+04, 7.4105000000e+04],\n",
       "        [1.0000000000e+00, 7.6725000000e+04, 7.6725000000e+04],\n",
       "        [1.0000000000e+00, 1.8317000000e+04, 1.8317000000e+04]]),\n",
       " array([2503., 2992., 1042., 2487., 2014., 2805., 5062., 2643., 2126.,\n",
       "        1784., 2641., 2766., 5047., 5312., 1215.]))"
      ]
     },
     "execution_count": 16,
     "metadata": {},
     "output_type": "execute_result"
    }
   ],
   "source": [
    "X[0][2] -= 0.000001\n",
    "X, y"
   ]
  },
  {
   "cell_type": "markdown",
   "metadata": {},
   "source": [
    "Even if the matrix is not mathematically singular, we have an unstable result with very high weights and an astronomic loss."
   ]
  },
  {
   "cell_type": "code",
   "execution_count": 17,
   "metadata": {},
   "outputs": [
    {
     "data": {
      "text/plain": [
       "(array([ 1.4105098288e+04,  4.2919662145e+08, -4.2956519422e+08]),\n",
       " array([-1.3622803391e+10, -1.6077498428e+10, -5.7843668512e+09,\n",
       "        -1.3353745703e+10, -1.1036897309e+10, -1.4959617235e+10,\n",
       "        -2.7736929241e+10, -1.3898496248e+10, -1.1388515726e+10,\n",
       "        -9.3934313551e+09, -1.3820358822e+10, -1.4889588410e+10,\n",
       "        -2.7313070562e+10, -2.8278731203e+10, -6.7511332109e+09]),\n",
       " array([1.8558084043e+20, 2.5848605191e+20, 3.3458911924e+19,\n",
       "        1.7832259072e+20, 1.2181314667e+20, 2.2379023175e+20,\n",
       "        7.6933752450e+20, 1.9316827142e+20, 1.2969833886e+20,\n",
       "        8.8236586139e+19, 1.9100239097e+20, 2.2169992539e+20,\n",
       "        7.4600409923e+20, 7.9968693891e+20, 4.5577816036e+19]),\n",
       " 4.185863664857835e+21)"
      ]
     },
     "execution_count": 17,
     "metadata": {},
     "output_type": "execute_result"
    }
   ],
   "source": [
    "# No regularization\n",
    "w, y_hat, se, sse = regression_array(X, y)\n",
    "w, y_hat, se, sse"
   ]
  },
  {
   "cell_type": "markdown",
   "metadata": {},
   "source": [
    "### With Regularization"
   ]
  },
  {
   "cell_type": "markdown",
   "metadata": {},
   "source": [
    "A small regularization adds stability and results in a loss that is the same as with a nonsingular matrix"
   ]
  },
  {
   "cell_type": "code",
   "execution_count": 18,
   "metadata": {},
   "outputs": [
    {
     "name": "stdout",
     "output_type": "stream",
     "text": [
      "Regularized\n"
     ]
    },
    {
     "data": {
      "text/plain": [
       "(array([8.5571550145, 0.0326287125, 0.0356675581]),\n",
       " array([2532.8556118515, 2987.7087739437, 1080.3988254823, 2482.9993343645,\n",
       "        2053.6889775045, 2780.5661852774, 5148.1929974417, 2583.9412222803,\n",
       "        2118.8436196369, 1749.1559069925, 2569.4624129176, 2767.5898938674,\n",
       "        5069.6522862758, 5248.588515193 , 1259.5399432112]),\n",
       " array([8.9135755903e+02, 1.8414621066e+01, 1.4744697984e+03,\n",
       "        1.6005325527e+01, 1.5752149354e+03, 5.9701130190e+02,\n",
       "        7.4292328080e+03, 3.4879392257e+03, 5.1213779901e+01,\n",
       "        1.2141108175e+03, 5.1176263656e+03, 2.5277625096e+00,\n",
       "        5.1312607352e+02, 4.0210164054e+03, 1.9838065413e+03]),\n",
       " 28393.07332074089)"
      ]
     },
     "execution_count": 18,
     "metadata": {},
     "output_type": "execute_result"
    }
   ],
   "source": [
    "# With regularization\n",
    "w, y_hat, se, sse = regression_array(X, y, reg=0.01)\n",
    "w, y_hat, se, sse"
   ]
  },
  {
   "cell_type": "code",
   "execution_count": null,
   "metadata": {},
   "outputs": [],
   "source": []
  }
 ],
 "metadata": {
  "anaconda-cloud": {},
  "kernelspec": {
   "display_name": "base",
   "language": "python",
   "name": "python3"
  },
  "language_info": {
   "codemirror_mode": {
    "name": "ipython",
    "version": 3
   },
   "file_extension": ".py",
   "mimetype": "text/x-python",
   "name": "python",
   "nbconvert_exporter": "python",
   "pygments_lexer": "ipython3",
   "version": "3.12.4"
  },
  "vscode": {
   "interpreter": {
    "hash": "b97b11a820675205aae8f1d7f2a3f22bbd3a2c30189f44042310baf5b4cd1987"
   }
  }
 },
 "nbformat": 4,
 "nbformat_minor": 4
}
