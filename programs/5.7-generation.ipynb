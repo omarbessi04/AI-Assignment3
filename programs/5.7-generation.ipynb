{
 "cells": [
  {
   "cell_type": "markdown",
   "metadata": {},
   "source": [
    "# Language Generation\n",
    "Generating sentences with conditional probabilities\n",
    "\n",
    "Author: Pierre Nugues"
   ]
  },
  {
   "cell_type": "markdown",
   "metadata": {},
   "source": [
    "## Reading a Corpus\n",
    "Utility function to read all the files in a folder"
   ]
  },
  {
   "cell_type": "code",
   "execution_count": 14,
   "metadata": {},
   "outputs": [],
   "source": [
    "import os\n",
    "def get_files(dir, suffix):\n",
    "    \"\"\"\n",
    "    Returns all the files in a folder ending with suffix\n",
    "    :param dir:\n",
    "    :param suffix:\n",
    "    :return: the list of file names\n",
    "    \"\"\"\n",
    "    files = []\n",
    "    for file in os.listdir(dir):\n",
    "        if file.endswith(suffix):\n",
    "            files.append(file)\n",
    "    return files"
   ]
  },
  {
   "cell_type": "markdown",
   "metadata": {},
   "source": [
    "## Tokenizer\n",
    "An elemetary tokenizer"
   ]
  },
  {
   "cell_type": "code",
   "execution_count": 15,
   "metadata": {},
   "outputs": [],
   "source": [
    "import regex as re\n",
    "def tokenize(text):\n",
    "    \"\"\"\n",
    "    Uses the letters to break the text into words.\n",
    "    Returns a list of match objects\n",
    "    \"\"\"\n",
    "    words = re.findall('\\p{L}+', text)\n",
    "    return words"
   ]
  },
  {
   "cell_type": "markdown",
   "metadata": {},
   "source": [
    "## Reading the Files\n",
    "We read a corpus of novels from Dickens"
   ]
  },
  {
   "cell_type": "code",
   "execution_count": 16,
   "metadata": {},
   "outputs": [
    {
     "data": {
      "text/plain": [
       "['Hard Times.txt',\n",
       " 'Oliver Twist.txt',\n",
       " 'Great Expectations.txt',\n",
       " 'The Old Curiosity Shop.txt',\n",
       " 'A Tale of Two Cities.txt',\n",
       " 'Dombey and Son.txt',\n",
       " 'The Pickwick Papers.txt',\n",
       " 'Bleak House.txt',\n",
       " 'Our Mutual Friend.txt',\n",
       " 'The Mystery of Edwin Drood.txt',\n",
       " 'Nicholas Nickleby.txt',\n",
       " 'David Copperfield.txt',\n",
       " 'Little Dorrit.txt',\n",
       " 'A Christmas Carol in Prose.txt']"
      ]
     },
     "execution_count": 16,
     "metadata": {},
     "output_type": "execute_result"
    }
   ],
   "source": [
    "#folder = '/Users/pierre/Documents/Cours/EDAN20/corpus/Selma/'\n",
    "folder = '/Users/pierre/Documents/Cours/EDAN20/corpus/Dickens/'\n",
    "files = get_files(folder, 'txt')\n",
    "files"
   ]
  },
  {
   "cell_type": "markdown",
   "metadata": {},
   "source": [
    "We tokenize the texts"
   ]
  },
  {
   "cell_type": "code",
   "execution_count": 17,
   "metadata": {},
   "outputs": [
    {
     "data": {
      "text/plain": [
       "['hard',\n",
       " 'times',\n",
       " 'and',\n",
       " 'reprinted',\n",
       " 'pieces',\n",
       " 'by',\n",
       " 'charles',\n",
       " 'dickens',\n",
       " 'with',\n",
       " 'illustrations']"
      ]
     },
     "execution_count": 17,
     "metadata": {},
     "output_type": "execute_result"
    }
   ],
   "source": [
    "words = []\n",
    "for file in files:\n",
    "    text = open(folder + file).read().lower().strip()\n",
    "    words += tokenize(text)\n",
    "words[:10]"
   ]
  },
  {
   "cell_type": "markdown",
   "metadata": {},
   "source": [
    "## N-gram functions"
   ]
  },
  {
   "cell_type": "code",
   "execution_count": 18,
   "metadata": {},
   "outputs": [],
   "source": [
    "def count_unigrams(words):\n",
    "    frequency = {}\n",
    "    for word in words:\n",
    "        if word in frequency:\n",
    "            frequency[word] += 1\n",
    "        else:\n",
    "            frequency[word] = 1\n",
    "    return frequency"
   ]
  },
  {
   "cell_type": "code",
   "execution_count": 19,
   "metadata": {},
   "outputs": [],
   "source": [
    "def count_bigrams(words):\n",
    "    bigrams = [tuple(words[idx:idx + 2])\n",
    "               for idx in range(len(words) - 1)]\n",
    "    frequencies = {}\n",
    "    for bigram in bigrams:\n",
    "        if bigram in frequencies:\n",
    "            frequencies[bigram] += 1\n",
    "        else:\n",
    "            frequencies[bigram] = 1\n",
    "    return frequencies"
   ]
  },
  {
   "cell_type": "markdown",
   "metadata": {},
   "source": [
    "### We count the unigrams and bigrams"
   ]
  },
  {
   "cell_type": "code",
   "execution_count": 20,
   "metadata": {},
   "outputs": [],
   "source": [
    "unigrams = count_unigrams(words)"
   ]
  },
  {
   "cell_type": "code",
   "execution_count": 21,
   "metadata": {},
   "outputs": [
    {
     "data": {
      "text/plain": [
       "1158"
      ]
     },
     "execution_count": 21,
     "metadata": {},
     "output_type": "execute_result"
    }
   ],
   "source": [
    "unigrams['master']"
   ]
  },
  {
   "cell_type": "code",
   "execution_count": 22,
   "metadata": {},
   "outputs": [],
   "source": [
    "bigrams = count_bigrams(words)"
   ]
  },
  {
   "cell_type": "markdown",
   "metadata": {},
   "source": [
    "## Conditional Probabilities"
   ]
  },
  {
   "cell_type": "markdown",
   "metadata": {},
   "source": [
    "Given a bigram, $w_n, w_{n+1}$, we compute $P(w_{n+1}|w_n)$. This is defined as $\\frac{count(w_n, w_{n+1})}{count(w_n)}$."
   ]
  },
  {
   "cell_type": "code",
   "execution_count": 23,
   "metadata": {},
   "outputs": [],
   "source": [
    "probs = {k: v/unigrams[k[0]] for k, v in bigrams.items()}"
   ]
  },
  {
   "cell_type": "markdown",
   "metadata": {},
   "source": [
    "### Extracting the conditional probabilities of a word"
   ]
  },
  {
   "cell_type": "code",
   "execution_count": 24,
   "metadata": {},
   "outputs": [
    {
     "data": {
      "text/plain": [
       "[(('master', 'copperfield'), 0.10449050086355786),\n",
       " (('master', 's'), 0.09930915371329879),\n",
       " (('master', 'of'), 0.06303972366148532),\n",
       " (('master', 'and'), 0.05958549222797927),\n",
       " (('master', 'bates'), 0.04317789291882556),\n",
       " (('master', 'said'), 0.023316062176165803),\n",
       " (('master', 'i'), 0.023316062176165803),\n",
       " (('master', 'bitherstone'), 0.02072538860103627),\n",
       " (('master', 'bardell'), 0.018134715025906734),\n",
       " (('master', 'was'), 0.016407599309153715),\n",
       " (('master', 'in'), 0.015544041450777202),\n",
       " (('master', 'at'), 0.012089810017271158),\n",
       " (('master', 'paul'), 0.012089810017271158),\n",
       " (('master', 'to'), 0.010362694300518135),\n",
       " (('master', 'davy'), 0.010362694300518135),\n",
       " (('master', 'the'), 0.009499136442141624),\n",
       " (('master', 'you'), 0.008635578583765112),\n",
       " (('master', 'crummleses'), 0.008635578583765112),\n",
       " (('master', 'he'), 0.007772020725388601),\n",
       " (('master', 'with'), 0.007772020725388601),\n",
       " (('master', 'who'), 0.007772020725388601),\n",
       " (('master', 'that'), 0.007772020725388601),\n",
       " (('master', 'it'), 0.007772020725388601),\n",
       " (('master', 'kidderminster'), 0.0069084628670120895),\n",
       " (('master', 'a'), 0.0069084628670120895),\n",
       " (('master', 'as'), 0.0069084628670120895),\n",
       " (('master', 'sir'), 0.0069084628670120895),\n",
       " (('master', 'george'), 0.0069084628670120895),\n",
       " (('master', 'wackford'), 0.0069084628670120895),\n",
       " (('master', 'micawber'), 0.0069084628670120895),\n",
       " (('master', 'or'), 0.006044905008635579),\n",
       " (('master', 'squeers'), 0.006044905008635579),\n",
       " (('master', 'is'), 0.0051813471502590676),\n",
       " (('master', 'not'), 0.0051813471502590676),\n",
       " (('master', 'mind'), 0.0051813471502590676),\n",
       " (('master', 'had'), 0.0051813471502590676),\n",
       " (('master', 'on'), 0.004317789291882556),\n",
       " (('master', 'for'), 0.004317789291882556),\n",
       " (('master', 'returned'), 0.004317789291882556),\n",
       " (('master', 'charles'), 0.004317789291882556),\n",
       " (('master', 'she'), 0.004317789291882556),\n",
       " (('master', 'mr'), 0.004317789291882556),\n",
       " (('master', 'belling'), 0.004317789291882556),\n",
       " (('master', 'crummles'), 0.004317789291882556),\n",
       " (('master', 'peter'), 0.004317789291882556),\n",
       " (('master', 'which'), 0.0034542314335060447),\n",
       " (('master', 'come'), 0.0034542314335060447),\n",
       " (('master', 'if'), 0.0034542314335060447),\n",
       " (('master', 'o'), 0.0034542314335060447),\n",
       " (('master', 'there'), 0.0034542314335060447),\n",
       " (('master', 'by'), 0.0034542314335060447),\n",
       " (('master', 'skettles'), 0.0034542314335060447),\n",
       " (('master', 'will'), 0.0034542314335060447),\n",
       " (('master', 'stroke'), 0.0034542314335060447),\n",
       " (('master', 'take'), 0.0034542314335060447),\n",
       " (('master', 'here'), 0.0034542314335060447),\n",
       " (('master', 'percy'), 0.0034542314335060447),\n",
       " (('master', 'too'), 0.0025906735751295338),\n",
       " (('master', 'so'), 0.0025906735751295338),\n",
       " (('master', 'but'), 0.0025906735751295338),\n",
       " (('master', 'came'), 0.0025906735751295338),\n",
       " (('master', 'looking'), 0.0025906735751295338),\n",
       " (('master', 'dear'), 0.0025906735751295338),\n",
       " (('master', 'has'), 0.0025906735751295338),\n",
       " (('master', 'no'), 0.0025906735751295338),\n",
       " (('master', 'would'), 0.0025906735751295338),\n",
       " (('master', 'up'), 0.0025906735751295338),\n",
       " (('master', 'out'), 0.0025906735751295338),\n",
       " (('master', 'arthur'), 0.0025906735751295338),\n",
       " (('master', 'spirit'), 0.0025906735751295338),\n",
       " (('master', 'scrooge'), 0.0025906735751295338),\n",
       " (('master', 'all'), 0.0017271157167530224),\n",
       " (('master', 'after'), 0.0017271157167530224),\n",
       " (('master', 'oliver'), 0.0017271157167530224),\n",
       " (('master', 'stopped'), 0.0017271157167530224),\n",
       " (('master', 'charley'), 0.0017271157167530224),\n",
       " (('master', 'comes'), 0.0017271157167530224),\n",
       " (('master', 'can'), 0.0017271157167530224),\n",
       " (('master', 'replied'), 0.0017271157167530224),\n",
       " (('master', 'now'), 0.0017271157167530224),\n",
       " (('master', 'are'), 0.0017271157167530224),\n",
       " (('master', 'hadn'), 0.0017271157167530224),\n",
       " (('master', 'having'), 0.0017271157167530224),\n",
       " (('master', 'my'), 0.0017271157167530224),\n",
       " (('master', 'dombey'), 0.0017271157167530224),\n",
       " (('master', 'chimney'), 0.0017271157167530224),\n",
       " (('master', 'briggs'), 0.0017271157167530224),\n",
       " (('master', 'get'), 0.0017271157167530224),\n",
       " (('master', 'himself'), 0.0017271157167530224),\n",
       " (('master', 'without'), 0.0017271157167530224),\n",
       " (('master', 'didn'), 0.0017271157167530224),\n",
       " (('master', 'where'), 0.0017271157167530224),\n",
       " (('master', 'have'), 0.0017271157167530224),\n",
       " (('master', 'his'), 0.0017271157167530224),\n",
       " (('master', 'passion'), 0.0017271157167530224),\n",
       " (('master', 'might'), 0.0017271157167530224),\n",
       " (('master', 'from'), 0.0017271157167530224),\n",
       " (('master', 'turned'), 0.0017271157167530224),\n",
       " (('master', 'should'), 0.0017271157167530224),\n",
       " (('master', 'sam'), 0.0017271157167530224),\n",
       " (('master', 'upon'), 0.0017271157167530224),\n",
       " (('master', 'jenny'), 0.0017271157167530224),\n",
       " (('master', 'good'), 0.0017271157167530224),\n",
       " (('master', 'urged'), 0.0017271157167530224),\n",
       " (('master', 'how'), 0.0017271157167530224),\n",
       " (('master', 'yes'), 0.0017271157167530224),\n",
       " (('master', 'looked'), 0.0017271157167530224),\n",
       " (('master', 'her'), 0.0017271157167530224),\n",
       " (('master', 'david'), 0.0017271157167530224),\n",
       " (('master', 'manner'), 0.0008635578583765112),\n",
       " (('master', 'eye'), 0.0008635578583765112),\n",
       " (('master', 'about'), 0.0008635578583765112),\n",
       " (('master', 'onny'), 0.0008635578583765112),\n",
       " (('master', 'dressed'), 0.0008635578583765112),\n",
       " (('master', 'basin'), 0.0008635578583765112),\n",
       " (('master', 'aimed'), 0.0008635578583765112),\n",
       " (('master', 'find'), 0.0008635578583765112),\n",
       " (('master', 'stoke'), 0.0008635578583765112),\n",
       " (('master', 'halted'), 0.0008635578583765112),\n",
       " (('master', 'either'), 0.0008635578583765112),\n",
       " (('master', 'pip'), 0.0008635578583765112),\n",
       " (('master', 'sure'), 0.0008635578583765112),\n",
       " (('master', 'refusing'), 0.0008635578583765112),\n",
       " (('master', 'rubbed'), 0.0008635578583765112),\n",
       " (('master', 'alick'), 0.0008635578583765112),\n",
       " (('master', 'hereupon'), 0.0008635578583765112),\n",
       " (('master', 'when'), 0.0008635578583765112),\n",
       " (('master', 'mania'), 0.0008635578583765112),\n",
       " (('master', 'ha'), 0.0008635578583765112),\n",
       " (('master', 'liked'), 0.0008635578583765112),\n",
       " (('master', 'an'), 0.0008635578583765112),\n",
       " (('master', 'this'), 0.0008635578583765112),\n",
       " (('master', 'interposed'), 0.0008635578583765112),\n",
       " (('master', 'meanwhile'), 0.0008635578583765112),\n",
       " (('master', 'sat'), 0.0008635578583765112),\n",
       " (('master', 'did'), 0.0008635578583765112),\n",
       " (('master', 'walked'), 0.0008635578583765112),\n",
       " (('master', 'lived'), 0.0008635578583765112),\n",
       " (('master', 'always'), 0.0008635578583765112),\n",
       " (('master', 'whispered'), 0.0008635578583765112),\n",
       " (('master', 'cried'), 0.0008635578583765112),\n",
       " (('master', 'stood'), 0.0008635578583765112),\n",
       " (('master', 'does'), 0.0008635578583765112),\n",
       " (('master', 'try'), 0.0008635578583765112),\n",
       " (('master', 'speak'), 0.0008635578583765112),\n",
       " (('master', 'cruncher'), 0.0008635578583765112),\n",
       " (('master', 'nor'), 0.0008635578583765112),\n",
       " (('master', 'close'), 0.0008635578583765112),\n",
       " (('master', 'keys'), 0.0008635578583765112),\n",
       " (('master', 'sweep'), 0.0008635578583765112),\n",
       " (('master', 'until'), 0.0008635578583765112),\n",
       " (('master', 'bolted'), 0.0008635578583765112),\n",
       " (('master', 'barnet'), 0.0008635578583765112),\n",
       " (('master', 'rob'), 0.0008635578583765112),\n",
       " (('master', 'though'), 0.0008635578583765112),\n",
       " (('master', 'forced'), 0.0008635578583765112),\n",
       " (('master', 'inquired'), 0.0008635578583765112),\n",
       " (('master', 'wide'), 0.0008635578583765112),\n",
       " (('master', 'humbled'), 0.0008635578583765112),\n",
       " (('master', 'vice'), 0.0008635578583765112),\n",
       " (('master', 'deary'), 0.0008635578583765112),\n",
       " (('master', 'abroad'), 0.0008635578583765112),\n",
       " (('master', 'appoint'), 0.0008635578583765112),\n",
       " (('master', 'wot'), 0.0008635578583765112),\n",
       " (('master', 'wy'), 0.0008635578583765112),\n",
       " (('master', 'hides'), 0.0008635578583765112),\n",
       " (('master', 'macstingers'), 0.0008635578583765112),\n",
       " (('master', 'wasn'), 0.0008635578583765112),\n",
       " (('master', 'your'), 0.0008635578583765112),\n",
       " (('master', 'murmured'), 0.0008635578583765112),\n",
       " (('master', 'nimbly'), 0.0008635578583765112),\n",
       " (('master', 'back'), 0.0008635578583765112),\n",
       " (('master', 'wery'), 0.0008635578583765112),\n",
       " (('master', 'down'), 0.0008635578583765112),\n",
       " (('master', 'oh'), 0.0008635578583765112),\n",
       " (('master', 'havin'), 0.0008635578583765112),\n",
       " (('master', 'paused'), 0.0008635578583765112),\n",
       " (('master', 'young'), 0.0008635578583765112),\n",
       " (('master', 'such'), 0.0008635578583765112),\n",
       " (('master', 'sent'), 0.0008635578583765112),\n",
       " (('master', 'give'), 0.0008635578583765112),\n",
       " (('master', 'wouldn'), 0.0008635578583765112),\n",
       " (('master', 'any'), 0.0008635578583765112),\n",
       " (('master', 'letting'), 0.0008635578583765112),\n",
       " (('master', 'opens'), 0.0008635578583765112),\n",
       " (('master', 'declared'), 0.0008635578583765112),\n",
       " (('master', 'being'), 0.0008635578583765112),\n",
       " (('master', 'thomas'), 0.0008635578583765112),\n",
       " (('master', 'well'), 0.0008635578583765112),\n",
       " (('master', 'everything'), 0.0008635578583765112),\n",
       " (('master', 'seized'), 0.0008635578583765112),\n",
       " (('master', 'brightening'), 0.0008635578583765112),\n",
       " (('master', 'still'), 0.0008635578583765112),\n",
       " (('master', 'blest'), 0.0008635578583765112),\n",
       " (('master', 'worthy'), 0.0008635578583765112),\n",
       " (('master', 'somebody'), 0.0008635578583765112),\n",
       " (('master', 'may'), 0.0008635578583765112),\n",
       " (('master', 'outside'), 0.0008635578583765112),\n",
       " (('master', 'thereof'), 0.0008635578583765112),\n",
       " (('master', 'walking'), 0.0008635578583765112),\n",
       " (('master', 'returns'), 0.0008635578583765112),\n",
       " (('master', 'throws'), 0.0008635578583765112),\n",
       " (('master', 'resumes'), 0.0008635578583765112),\n",
       " (('master', 'don'), 0.0008635578583765112),\n",
       " (('master', 'hobbles'), 0.0008635578583765112),\n",
       " (('master', 'points'), 0.0008635578583765112),\n",
       " (('master', 'quoth'), 0.0008635578583765112),\n",
       " (('master', 'full'), 0.0008635578583765112),\n",
       " (('master', 'our'), 0.0008635578583765112),\n",
       " (('master', 'miss'), 0.0008635578583765112),\n",
       " (('master', 'pointed'), 0.0008635578583765112),\n",
       " (('master', 'observed'), 0.0008635578583765112),\n",
       " (('master', 'sneered'), 0.0008635578583765112),\n",
       " (('master', 'highly'), 0.0008635578583765112),\n",
       " (('master', 'master'), 0.0008635578583765112),\n",
       " (('master', 'chapter'), 0.0008635578583765112),\n",
       " (('master', 'say'), 0.0008635578583765112),\n",
       " (('master', 'millers'), 0.0008635578583765112),\n",
       " (('master', 'thus'), 0.0008635578583765112),\n",
       " (('master', 'algebra'), 0.0008635578583765112),\n",
       " (('master', 'setting'), 0.0008635578583765112),\n",
       " (('master', 'blowed'), 0.0008635578583765112),\n",
       " (('master', 'us'), 0.0008635578583765112),\n",
       " (('master', 'edwin'), 0.0008635578583765112),\n",
       " (('master', 'another'), 0.0008635578583765112),\n",
       " (('master', 'eddy'), 0.0008635578583765112),\n",
       " (('master', 'vanishes'), 0.0008635578583765112),\n",
       " (('master', 'deputy'), 0.0008635578583765112),\n",
       " (('master', 'ralph'), 0.0008635578583765112),\n",
       " (('master', 'sternly'), 0.0008635578583765112),\n",
       " (('master', 'mantalini'), 0.0008635578583765112),\n",
       " (('master', 'newman'), 0.0008635578583765112),\n",
       " (('master', 'some'), 0.0008635578583765112),\n",
       " (('master', 'p'), 0.0008635578583765112),\n",
       " (('master', 'touched'), 0.0008635578583765112),\n",
       " (('master', 'more'), 0.0008635578583765112),\n",
       " (('master', 'snawley'), 0.0008635578583765112),\n",
       " (('master', 'rejoined'), 0.0008635578583765112),\n",
       " (('master', 'nobody'), 0.0008635578583765112),\n",
       " (('master', 'called'), 0.0008635578583765112),\n",
       " (('master', 'soundly'), 0.0008635578583765112),\n",
       " (('master', 'murdstone'), 0.0008635578583765112),\n",
       " (('master', 'enter'), 0.0008635578583765112),\n",
       " (('master', 'showing'), 0.0008635578583765112),\n",
       " (('master', 'trotwood'), 0.0008635578583765112),\n",
       " (('master', 'doctor'), 0.0008635578583765112),\n",
       " (('master', 'jones'), 0.0008635578583765112),\n",
       " (('master', 'mister'), 0.0008635578583765112),\n",
       " (('master', 'says'), 0.0008635578583765112),\n",
       " (('master', 'motive'), 0.0008635578583765112),\n",
       " (('master', 'civita'), 0.0008635578583765112),\n",
       " (('master', 'wins'), 0.0008635578583765112),\n",
       " (('master', 'john'), 0.0008635578583765112),\n",
       " (('master', 'surveying'), 0.0008635578583765112),\n",
       " (('master', 'nothing'), 0.0008635578583765112),\n",
       " (('master', 'shutting'), 0.0008635578583765112),\n",
       " (('master', 'cripples'), 0.0008635578583765112),\n",
       " (('master', 'ay'), 0.0008635578583765112),\n",
       " (('master', 'christopher'), 0.0008635578583765112),\n",
       " (('master', 'we'), 0.0008635578583765112),\n",
       " (('master', 'took'), 0.0008635578583765112),\n",
       " (('master', 'resolved'), 0.0008635578583765112),\n",
       " (('master', 'caught'), 0.0008635578583765112),\n",
       " (('master', 'little'), 0.0008635578583765112),\n",
       " (('master', 'gave'), 0.0008635578583765112),\n",
       " (('master', 'man'), 0.0008635578583765112),\n",
       " (('master', 'plornish'), 0.0008635578583765112),\n",
       " (('master', 'approached'), 0.0008635578583765112),\n",
       " (('master', 'predicted'), 0.0008635578583765112),\n",
       " (('master', 'trying'), 0.0008635578583765112)]"
      ]
     },
     "execution_count": 24,
     "metadata": {},
     "output_type": "execute_result"
    }
   ],
   "source": [
    "def cond_prob(word):\n",
    "    cprob = sorted([(k, v) for k, v in probs.items() if k[0] == word],\n",
    "                    key=lambda tup: tup[1], reverse=True)\n",
    "    return cprob\n",
    "cond_prob('master')"
   ]
  },
  {
   "cell_type": "markdown",
   "metadata": {},
   "source": [
    "### Drawing samples from a multinomial distribution. "
   ]
  },
  {
   "cell_type": "markdown",
   "metadata": {},
   "source": [
    "Understanding the `np.random.multinomial` function"
   ]
  },
  {
   "cell_type": "code",
   "execution_count": 25,
   "metadata": {},
   "outputs": [
    {
     "name": "stdout",
     "output_type": "stream",
     "text": [
      "[0 0 1]\n",
      "[0 1 0]\n",
      "[0 1 0]\n",
      "[0 0 1]\n",
      "[1 0 0]\n",
      "[0 0 1]\n",
      "[0 1 0]\n",
      "[1 0 0]\n",
      "[0 1 0]\n",
      "[0 0 1]\n"
     ]
    }
   ],
   "source": [
    "import numpy as np\n",
    "np.random.seed(0)\n",
    "for i in range(10):\n",
    "    print(np.random.multinomial(1, [0.3, 0.5, 0.2]))"
   ]
  },
  {
   "cell_type": "markdown",
   "metadata": {},
   "source": [
    "On a large number of draws"
   ]
  },
  {
   "cell_type": "code",
   "execution_count": 26,
   "metadata": {},
   "outputs": [
    {
     "data": {
      "text/plain": [
       "array([30071, 49842, 20087])"
      ]
     },
     "execution_count": 26,
     "metadata": {},
     "output_type": "execute_result"
    }
   ],
   "source": [
    "draws = []\n",
    "for i in range(100000):\n",
    "    draws.append(np.random.multinomial(1, [0.3, 0.5, 0.2]))\n",
    "np.sum(draws, axis=0)"
   ]
  },
  {
   "cell_type": "markdown",
   "metadata": {},
   "source": [
    "### And finally, generating a sequence"
   ]
  },
  {
   "cell_type": "code",
   "execution_count": 29,
   "metadata": {},
   "outputs": [
    {
     "name": "stdout",
     "output_type": "stream",
     "text": [
      "master that made me a hearty of the next demands the misanthrope in the contents of him to know what s thumbs and noiselessly turned upon a highly celebrated day who had done to the chimney indicated in that the child anything in a boy the person of fetching her and taking the contrary i should hazard to leave it is there was interrupted mr dolloby rolled back as i suppose that covered bed in his breast why then sat at the parents boldly remarked that what does my clothes baskets washing his side of these losses maybe you my heart "
     ]
    }
   ],
   "source": [
    "word = 'master'\n",
    "print(word, end=' ')\n",
    "for i in range(100):\n",
    "    cprob = cond_prob(word)\n",
    "    distribution = [i[1] for i in cprob]\n",
    "    bigram = cprob[np.argmax(np.random.multinomial(1, distribution))]\n",
    "    print(bigram[0][1], end=' ')\n",
    "    word = bigram[0][1]"
   ]
  },
  {
   "cell_type": "code",
   "execution_count": null,
   "metadata": {},
   "outputs": [],
   "source": []
  },
  {
   "cell_type": "code",
   "execution_count": null,
   "metadata": {},
   "outputs": [],
   "source": []
  }
 ],
 "metadata": {
  "kernelspec": {
   "display_name": "Python 3",
   "language": "python",
   "name": "python3"
  },
  "language_info": {
   "codemirror_mode": {
    "name": "ipython",
    "version": 3
   },
   "file_extension": ".py",
   "mimetype": "text/x-python",
   "name": "python",
   "nbconvert_exporter": "python",
   "pygments_lexer": "ipython3",
   "version": "3.11.5"
  }
 },
 "nbformat": 4,
 "nbformat_minor": 4
}
