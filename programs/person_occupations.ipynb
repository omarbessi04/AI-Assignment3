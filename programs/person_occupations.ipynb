{
 "cells": [
  {
   "cell_type": "markdown",
   "metadata": {},
   "source": [
    "# Extraction of a person's occupations from wikidata\n",
    "Example with Obama and others\n",
    "\n",
    "__author__ = \"Pierre Nugues\""
   ]
  },
  {
   "cell_type": "markdown",
   "metadata": {},
   "source": [
    "A few imports"
   ]
  },
  {
   "cell_type": "code",
   "execution_count": 1,
   "metadata": {},
   "outputs": [],
   "source": [
    "import requests\n",
    "import pandas as pd\n",
    "import json"
   ]
  },
  {
   "cell_type": "markdown",
   "metadata": {},
   "source": [
    "Setting the presentation options"
   ]
  },
  {
   "cell_type": "code",
   "execution_count": 2,
   "metadata": {},
   "outputs": [],
   "source": [
    "pd.options.display.max_rows = 10000\n",
    "pd.options.display.max_columns = 80\n",
    "pd.options.display.width = 200"
   ]
  },
  {
   "cell_type": "markdown",
   "metadata": {},
   "source": [
    "The query"
   ]
  },
  {
   "cell_type": "code",
   "execution_count": 3,
   "metadata": {},
   "outputs": [],
   "source": [
    "prefixes = '''PREFIX wikibase: <http://wikiba.se/ontology#>\n",
    "PREFIX wd: <http://www.wikidata.org/entity/>\n",
    "PREFIX p: <http://www.wikidata.org/prop/>\n",
    "PREFIX wdt: <http://www.wikidata.org/prop/direct/>\n",
    "PREFIX ps: <http://www.wikidata.org/prop/statement/>\n",
    "PREFIX rdfs: <http://www.w3.org/2000/01/rdf-schema#>\n",
    "'''"
   ]
  },
  {
   "cell_type": "code",
   "execution_count": 23,
   "metadata": {},
   "outputs": [],
   "source": [
    "entity = 'Q1780398'\n",
    "\n",
    "# Q6279 Joseph Biden\n",
    "# Q22686 Donald Trump\n",
    "# Q76 Barack Obama\n",
    "# Q2740012 Stefan Löfven\n",
    "# Q4935873 Magdalena Andersson\n",
    "# Q1780398 Ulf Kristersson\n",
    "# p: entity to statement\n",
    "# ps: statement to value\n",
    "# can be replaced by wdt: (truthy, missing facts)\n",
    "# See: https://stackoverflow.com/questions/36023098/querying-wikidata-difference-between-p-and-wdt-default-prefix"
   ]
  },
  {
   "cell_type": "code",
   "execution_count": 24,
   "metadata": {},
   "outputs": [
    {
     "name": "stdout",
     "output_type": "stream",
     "text": [
      "\n",
      "SELECT DISTINCT ?item ?itemLabelOcc (lang(?itemLabel) as ?lang)\n",
      "WHERE \n",
      "{\n",
      "    wd:Q1780398 p:P106 ?occupation .\n",
      "    ?occupation ps:P106 ?item .\n",
      "    ?item rdfs:label ?itemLabelOcc .\n",
      "    FILTER (lang(?itemLabelOcc) = \"en\") .\n",
      "}\n",
      "LIMIT 1000\n"
     ]
    }
   ],
   "source": [
    "english_query = '''\n",
    "SELECT DISTINCT ?item ?itemLabelOcc (lang(?itemLabel) as ?lang)\n",
    "WHERE \n",
    "{{\n",
    "    wd:{0} p:P106 ?occupation .\n",
    "    ?occupation ps:P106 ?item .\n",
    "    ?item rdfs:label ?itemLabelOcc .\n",
    "    FILTER (lang(?itemLabelOcc) = \"en\") .\n",
    "}}\n",
    "LIMIT 1000'''.format(entity)\n",
    "print(english_query)"
   ]
  },
  {
   "cell_type": "markdown",
   "metadata": {},
   "source": [
    "We query the data from wikidata"
   ]
  },
  {
   "cell_type": "code",
   "execution_count": 25,
   "metadata": {},
   "outputs": [
    {
     "data": {
      "text/plain": [
       "{'head': {'vars': ['item', 'itemLabelOcc', 'lang']},\n",
       " 'results': {'bindings': [{'item': {'type': 'uri',\n",
       "     'value': 'http://www.wikidata.org/entity/Q82955'},\n",
       "    'itemLabelOcc': {'xml:lang': 'en',\n",
       "     'type': 'literal',\n",
       "     'value': 'politician'}}]}}"
      ]
     },
     "execution_count": 25,
     "metadata": {},
     "output_type": "execute_result"
    }
   ],
   "source": [
    "url = 'https://query.wikidata.org/bigdata/namespace/wdq/sparql'\n",
    "data = requests.get(url, params={'query': prefixes + english_query, 'format': 'json'}).json()\n",
    "data"
   ]
  },
  {
   "cell_type": "markdown",
   "metadata": {},
   "source": [
    "And we print it"
   ]
  },
  {
   "cell_type": "code",
   "execution_count": 26,
   "metadata": {},
   "outputs": [
    {
     "data": {
      "text/html": [
       "<div>\n",
       "<style scoped>\n",
       "    .dataframe tbody tr th:only-of-type {\n",
       "        vertical-align: middle;\n",
       "    }\n",
       "\n",
       "    .dataframe tbody tr th {\n",
       "        vertical-align: top;\n",
       "    }\n",
       "\n",
       "    .dataframe thead th {\n",
       "        text-align: right;\n",
       "    }\n",
       "</style>\n",
       "<table border=\"1\" class=\"dataframe\">\n",
       "  <thead>\n",
       "    <tr style=\"text-align: right;\">\n",
       "      <th></th>\n",
       "      <th>id</th>\n",
       "      <th>occupation</th>\n",
       "      <th>lang</th>\n",
       "    </tr>\n",
       "  </thead>\n",
       "  <tbody>\n",
       "    <tr>\n",
       "      <th>0</th>\n",
       "      <td>http://www.wikidata.org/entity/Q82955</td>\n",
       "      <td>politician</td>\n",
       "      <td>en</td>\n",
       "    </tr>\n",
       "  </tbody>\n",
       "</table>\n",
       "</div>"
      ],
      "text/plain": [
       "                                      id  occupation lang\n",
       "0  http://www.wikidata.org/entity/Q82955  politician   en"
      ]
     },
     "execution_count": 26,
     "metadata": {},
     "output_type": "execute_result"
    }
   ],
   "source": [
    "profession = []\n",
    "for item in data['results']['bindings']:\n",
    "    profession.append({\n",
    "        'id': item.get('item', {}).get('value'),\n",
    "        'occupation': item.get('itemLabelOcc', {}).get('value'),\n",
    "        'lang': item.get('itemLabelOcc', {}).get('xml:lang'),\n",
    "    })\n",
    "\n",
    "df = pd.DataFrame(profession)\n",
    "df"
   ]
  },
  {
   "cell_type": "markdown",
   "metadata": {},
   "source": [
    "Going multilingual"
   ]
  },
  {
   "cell_type": "code",
   "execution_count": 27,
   "metadata": {},
   "outputs": [],
   "source": [
    "multilingual_query = '''\n",
    "SELECT DISTINCT ?item ?itemLabelOcc (lang(?itemLabel) as ?lang)\n",
    "WHERE \n",
    "{{\n",
    "    wd:{0} p:P106 ?occupation .\n",
    "    ?occupation ps:P106 ?item .\n",
    "    ?item rdfs:label ?itemLabelOcc . \n",
    "}}\n",
    "LIMIT 1000'''.format(entity)"
   ]
  },
  {
   "cell_type": "markdown",
   "metadata": {},
   "source": [
    "The query"
   ]
  },
  {
   "cell_type": "code",
   "execution_count": 28,
   "metadata": {},
   "outputs": [],
   "source": [
    "url = 'https://query.wikidata.org/bigdata/namespace/wdq/sparql'\n",
    "data = requests.get(url, params={'query': prefixes + multilingual_query, 'format': 'json'}).json()\n",
    "#data"
   ]
  },
  {
   "cell_type": "markdown",
   "metadata": {},
   "source": [
    "And we print it"
   ]
  },
  {
   "cell_type": "code",
   "execution_count": 29,
   "metadata": {},
   "outputs": [
    {
     "name": "stdout",
     "output_type": "stream",
     "text": [
      "                                        id                occupation       lang\n",
      "0    http://www.wikidata.org/entity/Q82955                  politiko        pag\n",
      "1    http://www.wikidata.org/entity/Q82955                  politiko        krj\n",
      "2    http://www.wikidata.org/entity/Q82955                  politiko        bcl\n",
      "3    http://www.wikidata.org/entity/Q82955                  politiko        war\n",
      "4    http://www.wikidata.org/entity/Q82955                  político    cbk-zam\n",
      "5    http://www.wikidata.org/entity/Q82955                   pòlitik        csb\n",
      "6    http://www.wikidata.org/entity/Q82955                 политиксь        mdf\n",
      "7    http://www.wikidata.org/entity/Q82955                   політік        rue\n",
      "8    http://www.wikidata.org/entity/Q82955                  tonudọtọ        guw\n",
      "9    http://www.wikidata.org/entity/Q82955                  políticu        ext\n",
      "10   http://www.wikidata.org/entity/Q82955                  Poliitik        vro\n",
      "11   http://www.wikidata.org/entity/Q82955                   политик         cv\n",
      "12   http://www.wikidata.org/entity/Q82955                siyasatshı        kaa\n",
      "13   http://www.wikidata.org/entity/Q82955                 politiker        frr\n",
      "14   http://www.wikidata.org/entity/Q82955             tulun pulitik        dtp\n",
      "15   http://www.wikidata.org/entity/Q82955                 Pɔleteesa        dga\n",
      "16   http://www.wikidata.org/entity/Q82955             Tokoh pulitik        bew\n",
      "17   http://www.wikidata.org/entity/Q82955        jan pi kulupu lawa        tok\n",
      "18   http://www.wikidata.org/entity/Q82955     a̱tyukwainfwuo-á̱niet        kcg\n",
      "19   http://www.wikidata.org/entity/Q82955                 politiķis         lv\n",
      "20   http://www.wikidata.org/entity/Q82955                  politiku         mt\n",
      "21   http://www.wikidata.org/entity/Q82955               òme politic         oc\n",
      "22   http://www.wikidata.org/entity/Q82955                politicher         rm\n",
      "23   http://www.wikidata.org/entity/Q82955                  pulìticu        scn\n",
      "24   http://www.wikidata.org/entity/Q82955               politeecian        sco\n",
      "25   http://www.wikidata.org/entity/Q82955                 Politiker        szl\n",
      "26   http://www.wikidata.org/entity/Q82955                  pułìtego        vec\n",
      "27   http://www.wikidata.org/entity/Q82955                  Politikî         wa\n",
      "28   http://www.wikidata.org/entity/Q82955                siyosatchi         uz\n",
      "29   http://www.wikidata.org/entity/Q82955               politikkneǩ        sms\n",
      "30   http://www.wikidata.org/entity/Q82955                  ರಾಜಕಾರಣಿ         kn\n",
      "31   http://www.wikidata.org/entity/Q82955                  сәйәсмән         ba\n",
      "32   http://www.wikidata.org/entity/Q82955                  ਸਿਆਸਤਦਾਨ         pa\n",
      "33   http://www.wikidata.org/entity/Q82955                 פאליטיקער         yi\n",
      "34   http://www.wikidata.org/entity/Q82955               politihkkár         se\n",
      "35   http://www.wikidata.org/entity/Q82955                politician         sw\n",
      "36   http://www.wikidata.org/entity/Q82955                   политик         bg\n",
      "37   http://www.wikidata.org/entity/Q82955                 politiker         br\n",
      "38   http://www.wikidata.org/entity/Q82955                  lugayhon        ceb\n",
      "39   http://www.wikidata.org/entity/Q82955         neach-poileataigs         gd\n",
      "40   http://www.wikidata.org/entity/Q82955               politickeyr         gv\n",
      "41   http://www.wikidata.org/entity/Q82955                  politico         ia\n",
      "42   http://www.wikidata.org/entity/Q82955                  politiko        ilo\n",
      "43   http://www.wikidata.org/entity/Q82955               politikisto         io\n",
      "44   http://www.wikidata.org/entity/Q82955                 politeger         kw\n",
      "45   http://www.wikidata.org/entity/Q82955               politiciste        lfn\n",
      "46   http://www.wikidata.org/entity/Q82955           mpanao politika         mg\n",
      "47   http://www.wikidata.org/entity/Q82955              ahli politik         ms\n",
      "48   http://www.wikidata.org/entity/Q82955               poliitiekku        olo\n",
      "49   http://www.wikidata.org/entity/Q82955                 političar         sh\n",
      "50   http://www.wikidata.org/entity/Q82955                  politiko         tl\n",
      "51   http://www.wikidata.org/entity/Q82955               chính khách         vi\n",
      "52   http://www.wikidata.org/entity/Q82955                   bolitan         vo\n",
      "53   http://www.wikidata.org/entity/Q82955               usombusazwe         zu\n",
      "54   http://www.wikidata.org/entity/Q82955                     سياسى        arz\n",
      "55   http://www.wikidata.org/entity/Q82955                   asertay        kab\n",
      "56   http://www.wikidata.org/entity/Q82955                 политичар      sr-ec\n",
      "57   http://www.wikidata.org/entity/Q82955                 političar      sr-el\n",
      "58   http://www.wikidata.org/entity/Q82955                 саясаткер         kk\n",
      "59   http://www.wikidata.org/entity/Q82955                ɗan siyasa         ha\n",
      "60   http://www.wikidata.org/entity/Q82955               ᱨᱟᱡᱽᱟᱹᱨᱤᱭᱟᱹ        sat\n",
      "61   http://www.wikidata.org/entity/Q82955                Siyasetkar        diq\n",
      "62   http://www.wikidata.org/entity/Q82955                  аполитик         ab\n",
      "63   http://www.wikidata.org/entity/Q82955                     ፖለቲከኛ         am\n",
      "64   http://www.wikidata.org/entity/Q82955                     سياسي        ary\n",
      "65   http://www.wikidata.org/entity/Q82955                  Сиясатчи         av\n",
      "66   http://www.wikidata.org/entity/Q82955                   राजनेता        awa\n",
      "67   http://www.wikidata.org/entity/Q82955                Anakithiri         ay\n",
      "68   http://www.wikidata.org/entity/Q82955                   سیاستچی        azb\n",
      "69   http://www.wikidata.org/entity/Q82955               улас түрэшэ        bxr\n",
      "70   http://www.wikidata.org/entity/Q82955                céng-dê-gă        cdo\n",
      "71   http://www.wikidata.org/entity/Q82955                   политик         ce\n",
      "72   http://www.wikidata.org/entity/Q82955                 siyasetçi        crh\n",
      "73   http://www.wikidata.org/entity/Q82955                 siyasetçi   crh-latn\n",
      "74   http://www.wikidata.org/entity/Q82955             aŋiɛcwëlbääny        din\n",
      "75   http://www.wikidata.org/entity/Q82955        ngaɗoowo siyaasaje         ff\n",
      "76   http://www.wikidata.org/entity/Q82955                 πολιτικός        grc\n",
      "77   http://www.wikidata.org/entity/Q82955                  રાજકારણી         gu\n",
      "78   http://www.wikidata.org/entity/Q82955            chṳn-chhṳ-ngìn        hak\n",
      "79   http://www.wikidata.org/entity/Q82955           loea kālaiʻāina        haw\n",
      "80   http://www.wikidata.org/entity/Q82955                  politiko        hil\n",
      "81   http://www.wikidata.org/entity/Q82955          քաղաքական գործիչ        hyw\n",
      "82   http://www.wikidata.org/entity/Q82955              siyasetmedar    ku-latn\n",
      "83   http://www.wikidata.org/entity/Q82955              Moí-politíki         ln\n",
      "84   http://www.wikidata.org/entity/Q82955               ນັກການເມືອງ         lo\n",
      "85   http://www.wikidata.org/entity/Q82955                   политик        mhr\n",
      "86   http://www.wikidata.org/entity/Q82955              kaitōrangapū         mi\n",
      "87   http://www.wikidata.org/entity/Q82955       രാഷ്ട്രീയപ്രവർത്തകർ         ml\n",
      "88   http://www.wikidata.org/entity/Q82955              اهلي ڤوليتيک    ms-arab\n",
      "89   http://www.wikidata.org/entity/Q82955           вийкирдий-ветий        myv\n",
      "90   http://www.wikidata.org/entity/Q82955                  Cemitqui        nah\n",
      "91   http://www.wikidata.org/entity/Q82955         Chèng-tī jîn-bu̍t        nan\n",
      "92   http://www.wikidata.org/entity/Q82955             ߓߘߍ߬ߓߘߍ߬ߟߌ߬ߟߊ        nqo\n",
      "93   http://www.wikidata.org/entity/Q82955                   политик         os\n",
      "94   http://www.wikidata.org/entity/Q82955                 سیاست دان        pnb\n",
      "95   http://www.wikidata.org/entity/Q82955               Kawpaq runa         qu\n",
      "96   http://www.wikidata.org/entity/Q82955               राजनैतिज्ञः         sa\n",
      "97   http://www.wikidata.org/entity/Q82955                  бэлиитик        sah\n",
      "98   http://www.wikidata.org/entity/Q82955                දේශපාලනඥයා         si\n",
      "99   http://www.wikidata.org/entity/Q82955               polijtikere        sma\n",
      "100  http://www.wikidata.org/entity/Q82955               politihkkár        smj\n",
      "101  http://www.wikidata.org/entity/Q82955                politikkár        smn\n",
      "102  http://www.wikidata.org/entity/Q82955                sopolitiki         ss\n",
      "103  http://www.wikidata.org/entity/Q82955                     ፖለቲከኛ         ti\n",
      "104  http://www.wikidata.org/entity/Q82955             N'wa politiki         ts\n",
      "105  http://www.wikidata.org/entity/Q82955                  сәясәтче         tt\n",
      "106  http://www.wikidata.org/entity/Q82955                  сәясәтче    tt-cyrl\n",
      "107  http://www.wikidata.org/entity/Q82955                   политик        udm\n",
      "108  http://www.wikidata.org/entity/Q82955             politikanmez'        vep\n",
      "109  http://www.wikidata.org/entity/Q82955                პოლიტიკოსი        xmf\n",
      "110  http://www.wikidata.org/entity/Q82955                      政治人物      zh-cn\n",
      "111  http://www.wikidata.org/entity/Q82955                      政治人物      zh-mo\n",
      "112  http://www.wikidata.org/entity/Q82955                      政治人物      zh-my\n",
      "113  http://www.wikidata.org/entity/Q82955                      政治人物      zh-sg\n",
      "114  http://www.wikidata.org/entity/Q82955                 politikus        min\n",
      "115  http://www.wikidata.org/entity/Q82955                politician      en-us\n",
      "116  http://www.wikidata.org/entity/Q82955             ojokuaikuaáva         gn\n",
      "117  http://www.wikidata.org/entity/Q82955                 politikaŕ        dsb\n",
      "118  http://www.wikidata.org/entity/Q82955                  polítiku        pam\n",
      "119  http://www.wikidata.org/entity/Q82955                  Amanyɔni         tw\n",
      "120  http://www.wikidata.org/entity/Q82955                 politicus         la\n",
      "121  http://www.wikidata.org/entity/Q82955                 Politiker         de\n",
      "122  http://www.wikidata.org/entity/Q82955                 politicus         nl\n",
      "123  http://www.wikidata.org/entity/Q82955                  político         es\n",
      "124  http://www.wikidata.org/entity/Q82955              سِیاسَتھ دان         ks\n",
      "125  http://www.wikidata.org/entity/Q82955                 politikus         af\n",
      "126  http://www.wikidata.org/entity/Q82955                রাজনীতিবিদ         bn\n",
      "127  http://www.wikidata.org/entity/Q82955                politician         en\n",
      "128  http://www.wikidata.org/entity/Q82955                polaiteoir         ga\n",
      "129  http://www.wikidata.org/entity/Q82955          քաղաքական գործիչ         hy\n",
      "130  http://www.wikidata.org/entity/Q82955                 politikus         id\n",
      "131  http://www.wikidata.org/entity/Q82955                 политичар         mk\n",
      "132  http://www.wikidata.org/entity/Q82955                 سیاستمدار        mzn\n",
      "133  http://www.wikidata.org/entity/Q82955                  político         pt\n",
      "134  http://www.wikidata.org/entity/Q82955                 politikan         sq\n",
      "135  http://www.wikidata.org/entity/Q82955                   політик         uk\n",
      "136  http://www.wikidata.org/entity/Q82955                     سياسي         ar\n",
      "137  http://www.wikidata.org/entity/Q82955                 πολιτικός         el\n",
      "138  http://www.wikidata.org/entity/Q82955  Onye ndọrọ ndọrọ ọchịchị         ig\n",
      "139  http://www.wikidata.org/entity/Q82955                   olóṣèlú         yo\n",
      "140  http://www.wikidata.org/entity/Q82955                   палітык         be\n",
      "141  http://www.wikidata.org/entity/Q82955                   палітык  be-tarask\n",
      "142  http://www.wikidata.org/entity/Q82955                 politiker         da\n",
      "143  http://www.wikidata.org/entity/Q82955                 politikus         hu\n",
      "144  http://www.wikidata.org/entity/Q82955                   polityk         pl\n",
      "145  http://www.wikidata.org/entity/Q82955                 פוליטיקאי         he\n",
      "146  http://www.wikidata.org/entity/Q82955                      政治人物        wuu\n",
      "147  http://www.wikidata.org/entity/Q82955                      政治人物         zh\n",
      "148  http://www.wikidata.org/entity/Q82955                      政治人物    zh-hans\n",
      "149  http://www.wikidata.org/entity/Q82955                      政治人物    zh-hant\n",
      "150  http://www.wikidata.org/entity/Q82955                      政治人物      zh-hk\n",
      "151  http://www.wikidata.org/entity/Q82955                      政治人物      zh-tw\n",
      "152  http://www.wikidata.org/entity/Q82955                  políticu        ast\n",
      "153  http://www.wikidata.org/entity/Q82955    personnalité politique         fr\n",
      "154  http://www.wikidata.org/entity/Q82955                  politico         it\n",
      "155  http://www.wikidata.org/entity/Q82955                  سياستوال         ps\n",
      "156  http://www.wikidata.org/entity/Q82955                politician         ro\n",
      "157  http://www.wikidata.org/entity/Q82955                 سیاستمدار         fa\n",
      "158  http://www.wikidata.org/entity/Q82955                   politik         cs\n",
      "159  http://www.wikidata.org/entity/Q82955                   политик         ru\n",
      "160  http://www.wikidata.org/entity/Q82955                 سیاسەتوان        ckb\n",
      "161  http://www.wikidata.org/entity/Q82955                       政治家         ja\n",
      "162  http://www.wikidata.org/entity/Q82955                 politiker         nb\n",
      "163  http://www.wikidata.org/entity/Q82955                  político      pt-br\n",
      "164  http://www.wikidata.org/entity/Q82955                 politiker         sv\n",
      "165  http://www.wikidata.org/entity/Q82955                 سیاست دان         ur\n",
      "166  http://www.wikidata.org/entity/Q82955                 Politiker      de-at\n",
      "167  http://www.wikidata.org/entity/Q82955                   polític         ca\n",
      "168  http://www.wikidata.org/entity/Q82955                  político         gl\n",
      "169  http://www.wikidata.org/entity/Q82955                პოლიტიკოსი         ka\n",
      "170  http://www.wikidata.org/entity/Q82955                  Улс төрч         mn\n",
      "171  http://www.wikidata.org/entity/Q82955                 политичар         sr\n",
      "172  http://www.wikidata.org/entity/Q82955                 siyasətçi         az\n",
      "173  http://www.wikidata.org/entity/Q82955                 gwleidydd         cy\n",
      "174  http://www.wikidata.org/entity/Q82955                  poliitik         et\n",
      "175  http://www.wikidata.org/entity/Q82955                 siyasetçi         tr\n",
      "176  http://www.wikidata.org/entity/Q82955               politikisto         eo\n",
      "177  http://www.wikidata.org/entity/Q82955            రాజకీయ నాయకులు         te\n",
      "178  http://www.wikidata.org/entity/Q82955                 politikar         nn\n",
      "179  http://www.wikidata.org/entity/Q82955                राजनीतिज्ञ         hi\n",
      "180  http://www.wikidata.org/entity/Q82955                ରାଜନୀତିଜ୍ଞ         or\n",
      "181  http://www.wikidata.org/entity/Q82955                       政治人        yue\n",
      "182  http://www.wikidata.org/entity/Q82955                politikari         eu\n",
      "183  http://www.wikidata.org/entity/Q82955                  politiko        pap\n",
      "184  http://www.wikidata.org/entity/Q82955                   politik         sl\n",
      "185  http://www.wikidata.org/entity/Q82955               นักการเมือง         th\n",
      "186  http://www.wikidata.org/entity/Q82955                politician      en-ca\n",
      "187  http://www.wikidata.org/entity/Q82955                politician      en-gb\n",
      "188  http://www.wikidata.org/entity/Q82955                   politik         sk\n",
      "189  http://www.wikidata.org/entity/Q82955              siyasetmedar         ku\n",
      "190  http://www.wikidata.org/entity/Q82955                poliitikko         fi\n",
      "191  http://www.wikidata.org/entity/Q82955                 Politiker        gsw\n",
      "192  http://www.wikidata.org/entity/Q82955               அரசியல்வாதி         ta\n",
      "193  http://www.wikidata.org/entity/Q82955            နိုင်ငံရေးသမား         my\n",
      "194  http://www.wikidata.org/entity/Q82955                       정치인         ko\n",
      "195  http://www.wikidata.org/entity/Q82955                 političar         bs\n",
      "196  http://www.wikidata.org/entity/Q82955                 političar         hr\n",
      "197  http://www.wikidata.org/entity/Q82955                  राजकारणी         mr\n",
      "198  http://www.wikidata.org/entity/Q82955                   Siyaasi         so\n",
      "199  http://www.wikidata.org/entity/Q82955                  Polidika        bar\n",
      "200  http://www.wikidata.org/entity/Q82955                 Politiker        nds\n",
      "201  http://www.wikidata.org/entity/Q82955               сиёсатмадор         tg\n",
      "202  http://www.wikidata.org/entity/Q82955                  سياستدان         sd\n",
      "203  http://www.wikidata.org/entity/Q82955                 Politiker      de-ch\n",
      "204  http://www.wikidata.org/entity/Q82955                राजनीतिज्ञ        mai\n",
      "205  http://www.wikidata.org/entity/Q82955                राजनीतिज्ञ         ne\n",
      "206  http://www.wikidata.org/entity/Q82955                  Politico         an\n",
      "207  http://www.wikidata.org/entity/Q82955               puliticante         co\n",
      "208  http://www.wikidata.org/entity/Q82955                politikari         fo\n",
      "209  http://www.wikidata.org/entity/Q82955                 politikus         fy\n",
      "210  http://www.wikidata.org/entity/Q82955                 politikar        hsb\n",
      "211  http://www.wikidata.org/entity/Q82955                Politisyen         ht\n",
      "212  http://www.wikidata.org/entity/Q82955           stjórnmálamaður         is\n",
      "213  http://www.wikidata.org/entity/Q82955                Polleteker        ksh\n",
      "214  http://www.wikidata.org/entity/Q82955                 Politiker         lb\n",
      "215  http://www.wikidata.org/entity/Q82955                 Politicus         li\n",
      "216  http://www.wikidata.org/entity/Q82955                  polìtico        lij\n",
      "217  http://www.wikidata.org/entity/Q82955                  politegh        lmo\n",
      "218  http://www.wikidata.org/entity/Q82955                 politikas         lt\n"
     ]
    }
   ],
   "source": [
    "profession = []\n",
    "for item in data['results']['bindings']:\n",
    "    profession.append({\n",
    "        'id': item.get('item', {}).get('value'),\n",
    "        'occupation': item.get('itemLabelOcc', {}).get('value'),\n",
    "        'lang': item.get('itemLabelOcc', {}).get('xml:lang'),\n",
    "    })\n",
    "\n",
    "df = pd.DataFrame(profession)\n",
    "print(df)"
   ]
  },
  {
   "cell_type": "code",
   "execution_count": null,
   "metadata": {},
   "outputs": [],
   "source": []
  },
  {
   "cell_type": "code",
   "execution_count": null,
   "metadata": {},
   "outputs": [],
   "source": []
  }
 ],
 "metadata": {
  "kernelspec": {
   "display_name": "base",
   "language": "python",
   "name": "python3"
  },
  "language_info": {
   "codemirror_mode": {
    "name": "ipython",
    "version": 3
   },
   "file_extension": ".py",
   "mimetype": "text/x-python",
   "name": "python",
   "nbconvert_exporter": "python",
   "pygments_lexer": "ipython3",
   "version": "3.12.4"
  },
  "vscode": {
   "interpreter": {
    "hash": "b97b11a820675205aae8f1d7f2a3f22bbd3a2c30189f44042310baf5b4cd1987"
   }
  }
 },
 "nbformat": 4,
 "nbformat_minor": 4
}
